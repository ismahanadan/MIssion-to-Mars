{
 "cells": [
  {
   "cell_type": "markdown",
   "id": "other-spring",
   "metadata": {},
   "source": [
    "# Dependencies\n",
    "from splinter import Browser\n",
    "from webdriver_manager.chrome import ChromeDriverManager\n",
    "from bs4 import BeautifulSoup\n",
    "import pandas as pd\n",
    "import requests\n",
    "import pymongo\n",
    "import os\n"
   ]
  },
  {
   "cell_type": "markdown",
   "id": "honey-briefing",
   "metadata": {},
   "source": [
    "## Scrape the NASA Mars News Site and collect the latest News Title and Paragraph Text##\n"
   ]
  },
  {
   "cell_type": "code",
   "execution_count": 1,
   "id": "responsible-conservative",
   "metadata": {},
   "outputs": [],
   "source": [
    "# Scrape the NASA Mars News Site and collect the latest News Title and Paragraph Text. \n",
    "\n",
    "#Url to be scraped\n",
    "\n",
    "url = 'https://mars.nasa.gov/news/?page=0&per_page=40&order=publish_date+desc%2Ccreated_at+desc&search=&category=19%2C165%2C184%2C204&blank_scope=Latest'\n"
   ]
  },
  {
   "cell_type": "code",
   "execution_count": 2,
   "id": "clear-hundred",
   "metadata": {},
   "outputs": [
    {
     "ename": "NameError",
     "evalue": "name 'requests' is not defined",
     "output_type": "error",
     "traceback": [
      "\u001b[0;31m---------------------------------------------------------------------------\u001b[0m",
      "\u001b[0;31mNameError\u001b[0m                                 Traceback (most recent call last)",
      "\u001b[0;32m<ipython-input-2-488b8191f37f>\u001b[0m in \u001b[0;36m<module>\u001b[0;34m\u001b[0m\n\u001b[1;32m      1\u001b[0m \u001b[0;31m#Retrieve page with the requests module\u001b[0m\u001b[0;34m\u001b[0m\u001b[0;34m\u001b[0m\u001b[0;34m\u001b[0m\u001b[0m\n\u001b[1;32m      2\u001b[0m \u001b[0;34m\u001b[0m\u001b[0m\n\u001b[0;32m----> 3\u001b[0;31m \u001b[0mresponse\u001b[0m \u001b[0;34m=\u001b[0m \u001b[0mrequests\u001b[0m\u001b[0;34m.\u001b[0m\u001b[0mget\u001b[0m\u001b[0;34m(\u001b[0m\u001b[0murl\u001b[0m\u001b[0;34m)\u001b[0m\u001b[0;34m\u001b[0m\u001b[0;34m\u001b[0m\u001b[0m\n\u001b[0m",
      "\u001b[0;31mNameError\u001b[0m: name 'requests' is not defined"
     ]
    }
   ],
   "source": [
    "#Retrieve page with the requests module\n",
    "\n",
    "response = requests.get(url)"
   ]
  },
  {
   "cell_type": "code",
   "execution_count": null,
   "id": "aging-screen",
   "metadata": {},
   "outputs": [],
   "source": [
    "#Create BeautifulSoup object \n",
    "#parse with 'html.parser'\n",
    "\n",
    "soup = BeautifulSoup(response.text, 'html.parser')"
   ]
  },
  {
   "cell_type": "code",
   "execution_count": null,
   "id": "third-christopher",
   "metadata": {},
   "outputs": [],
   "source": [
    "#Examine the results \n",
    "\n",
    "print(soup.prettify()) "
   ]
  },
  {
   "cell_type": "code",
   "execution_count": null,
   "id": "departmental-gossip",
   "metadata": {},
   "outputs": [],
   "source": [
    "#Extract title text\n",
    "title = soup.title.text\n",
    "print(title)"
   ]
  },
  {
   "cell_type": "code",
   "execution_count": null,
   "id": "prescribed-grace",
   "metadata": {},
   "outputs": [],
   "source": [
    "#Assign the text to variables\n",
    "\n",
    "news_title = \"Tricky Terrain: Helping to Assure a Safe Rover Landing – NASA’s Mars Exploration Program\""
   ]
  },
  {
   "cell_type": "code",
   "execution_count": null,
   "id": "nearby-delta",
   "metadata": {},
   "outputs": [],
   "source": [
    "#Print all paragraph texts\n",
    "\n",
    "paragraphs = soup.find_all('p')\n",
    "for paragraph in paragraphs:\n",
    "    print(paragraph.text)"
   ]
  },
  {
   "cell_type": "code",
   "execution_count": null,
   "id": "former-banner",
   "metadata": {},
   "outputs": [],
   "source": [
    "#Assign the text to variables\n",
    "news_p = \"Managed by the Mars Exploration Program and the Jet Propulsion Laboratory for NASA’s Science Mission Directorate\"\n",
    "\n",
    "\n"
   ]
  },
  {
   "cell_type": "code",
   "execution_count": null,
   "id": "preceding-priest",
   "metadata": {},
   "outputs": [],
   "source": [
    "#Use Pandas to scrape the table containing facts about the planet including Diameter, Mass, etc.\n",
    "#Url to be scraped\n",
    "\n",
    "url = 'https://space-facts.com/mars/'"
   ]
  },
  {
   "cell_type": "code",
   "execution_count": null,
   "id": "whole-mustang",
   "metadata": {},
   "outputs": [],
   "source": [
    "#Use Pandas to convert the data to a HTML table string\n",
    "\n",
    "tables = pd.read_html(url)\n",
    "tables\n"
   ]
  },
  {
   "cell_type": "code",
   "execution_count": null,
   "id": "speaking-lightning",
   "metadata": {},
   "outputs": [],
   "source": [
    "type(tables)"
   ]
  },
  {
   "cell_type": "code",
   "execution_count": null,
   "id": "fuzzy-church",
   "metadata": {},
   "outputs": [],
   "source": [
    "df = tables[0]\n",
    "df"
   ]
  },
  {
   "cell_type": "code",
   "execution_count": null,
   "id": "linear-venice",
   "metadata": {},
   "outputs": [],
   "source": [
    "df.to_html('table.html')"
   ]
  },
  {
   "cell_type": "code",
   "execution_count": null,
   "id": "behind-initial",
   "metadata": {},
   "outputs": [],
   "source": [
    "#Convert df to HTML table string\n",
    "\n",
    "!open table.html"
   ]
  },
  {
   "cell_type": "code",
   "execution_count": 4,
   "id": "rubber-graph",
   "metadata": {},
   "outputs": [],
   "source": [
    "#High resolution images for each of Mar's hemispheres from nasa.gov and planetary.org\n",
    "#Click on to find the image url to the full resolution image.\n",
    "\n",
    "\n",
    "\n",
    "\n",
    "hemisphere_image_urls = [\n",
    "    \n",
    "    {\"title\": \"Valles Marineris Hemisphere\", \"img_url\": \"https://mars.nasa.gov/system/resources/detail_files/6453_mars-globe-valles-marineris-enhanced-full2.jpg\"},\n",
    "    {\"title\": \"Cerberus Hemisphere\", \"img_url\": \"https://www.jpl.nasa.gov/images/cerberus-hemisphere\"},\n",
    "    {\"title\": \"Schiaparelli Hemisphere\", \"img_url\": \"https://planetary.s3.amazonaws.com/web/assets/pictures/20140202_schiaparelli_enhanced.jpg\"},\n",
    "    {\"title\": \"Syrtis Major Hemisphere\", \"img_url\": \"https://planetary.s3.amazonaws.com/web/assets/pictures/20140202_syrtis_major_enhanced.jpg\"},\n",
    "]        \n",
    "\n"
   ]
  },
  {
   "cell_type": "code",
   "execution_count": null,
   "id": "front-dublin",
   "metadata": {},
   "outputs": [],
   "source": []
  },
  {
   "cell_type": "code",
   "execution_count": null,
   "id": "lined-pendant",
   "metadata": {},
   "outputs": [],
   "source": []
  }
 ],
 "metadata": {
  "kernelspec": {
   "display_name": "Python 3",
   "language": "python",
   "name": "python3"
  },
  "language_info": {
   "codemirror_mode": {
    "name": "ipython",
    "version": 3
   },
   "file_extension": ".py",
   "mimetype": "text/x-python",
   "name": "python",
   "nbconvert_exporter": "python",
   "pygments_lexer": "ipython3",
   "version": "3.8.5"
  }
 },
 "nbformat": 4,
 "nbformat_minor": 5
}
